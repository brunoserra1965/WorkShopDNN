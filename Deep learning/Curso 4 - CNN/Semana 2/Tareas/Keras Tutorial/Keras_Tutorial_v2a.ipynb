{
 "cells": [
  {
   "cell_type": "markdown",
   "metadata": {},
   "source": [
    "# Keras tutorial - Emotion Detection in Images of Faces\n",
    "\n",
    "Welcome to the first assignment of week 2. In this assignment, you will:\n",
    "1. Learn to use Keras, a high-level neural networks API (programming framework), written in Python and capable of running on top of several lower-level frameworks including TensorFlow and CNTK. \n",
    "2. See how you can in a couple of hours build a deep learning algorithm.\n",
    "\n",
    "#### Why are we using Keras? \n",
    "\n",
    "* Keras was developed to enable deep learning engineers to build and experiment with different models very quickly. \n",
    "* Just as TensorFlow is a higher-level framework than Python, Keras is an even higher-level framework and provides additional abstractions. \n",
    "* Being able to go from idea to result with the least possible delay is key to finding good models. \n",
    "* However, Keras is more restrictive than the lower-level frameworks, so there are some very complex models that you would still implement in TensorFlow rather than in Keras. \n",
    "* That being said, Keras will work fine for many common models. "
   ]
  },
  {
   "cell_type": "markdown",
   "metadata": {},
   "source": [
    "## <font color='darkblue'>Updates</font>\n",
    "\n",
    "#### If you were working on the notebook before this update...\n",
    "* The current notebook is version \"v2a\".\n",
    "* You can find your original work saved in the notebook with the previous version name (\"v2\").\n",
    "* To view the file directory, go to the menu \"File->Open\", and this will open a new tab that shows the file directory.\n",
    "\n",
    "#### List of updates\n",
    "* Changed back-story of model to \"emotion detection\" from \"happy house.\"\n",
    "* Cleaned/organized wording of instructions and commentary.\n",
    "* Added instructions on how to set `input_shape`\n",
    "* Added explanation of \"objects as functions\" syntax.\n",
    "* Clarified explanation of variable naming convention.\n",
    "* Added hints for steps 1,2,3,4"
   ]
  },
  {
   "cell_type": "markdown",
   "metadata": {},
   "source": [
    "## Load packages\n",
    "* In this exercise, you'll work on the \"Emotion detection\" model, which we'll explain below. \n",
    "* Let's load the required packages."
   ]
  },
  {
   "cell_type": "code",
   "execution_count": 1,
   "metadata": {
    "collapsed": true,
    "tags": []
   },
   "outputs": [],
   "source": [
    "import numpy as np\n",
    "from keras import layers\n",
    "from keras.layers import Input, Dense, Activation, ZeroPadding2D, BatchNormalization, Flatten, Conv2D\n",
    "from keras.layers import AveragePooling2D, MaxPooling2D, Dropout, GlobalMaxPooling2D, GlobalAveragePooling2D\n",
    "from keras.models import Model\n",
    "from keras.preprocessing import image\n",
    "from keras.utils import layer_utils\n",
    "from keras.utils.data_utils import get_file\n",
    "from keras.applications.imagenet_utils import preprocess_input\n",
    "import pydot\n",
    "from IPython.display import SVG\n",
    "from keras.utils.vis_utils import model_to_dot\n",
    "from keras.utils import plot_model\n",
    "from kt_utils import *\n",
    "from PIL import Image\n",
    "\n",
    "\n",
    "import keras.backend as K\n",
    "K.set_image_data_format('channels_last')\n",
    "import matplotlib.pyplot as plt\n",
    "from matplotlib.pyplot import imshow\n",
    "\n",
    "%matplotlib inline"
   ]
  },
  {
   "cell_type": "markdown",
   "metadata": {},
   "source": [
    "**Note**: As you can see, we've imported a lot of functions from Keras. You can use them by calling them directly in your code. Ex: `X = Input(...)` or `X = ZeroPadding2D(...)`. \n",
    "\n",
    "In other words, unlike TensorFlow, you don't have to create the graph and then make a separate `sess.run()` call to evaluate those variables."
   ]
  },
  {
   "cell_type": "markdown",
   "metadata": {},
   "source": [
    "## 1 - Emotion Tracking\n",
    "\n",
    "* A nearby community health clinic is helping the local residents monitor their mental health.  \n",
    "* As part of their study, they are asking volunteers to record their emotions throughout the day.\n",
    "* To help the participants more easily track their emotions, you are asked to create an app that will classify their emotions based on some pictures that the volunteers will take of their facial expressions.\n",
    "* As a proof-of-concept, you first train your model to detect if someone's emotion is classified as \"happy\" or \"not happy.\"\n",
    "\n",
    "To build and train this model, you have gathered pictures of some volunteers in a nearby neighborhood. The dataset is labeled.\n",
    "<img src=\"images/face_images.png\" style=\"width:550px;height:250px;\">\n",
    "\n",
    "Run the following code to normalize the dataset and learn about its shapes."
   ]
  },
  {
   "cell_type": "code",
   "execution_count": 2,
   "metadata": {
    "collapsed": true,
    "tags": []
   },
   "outputs": [
    {
     "output_type": "stream",
     "name": "stdout",
     "text": "number of training examples = 3151\nnumber of test examples = 788\nX_train shape: (3151, 128, 128, 3)\nY_train shape: (3151, 1)\nX_test shape: (788, 128, 128, 3)\nY_test shape: (788, 1)\n"
    }
   ],
   "source": [
    "X_train_orig, Y_train_orig, X_test_orig, Y_test_orig = load_dataset_grande()\n",
    "\n",
    "# Normalize image vectors\n",
    "X_train = X_train_orig/255.\n",
    "X_test = X_test_orig/255.\n",
    "\n",
    "# Reshape\n",
    "Y_train = Y_train_orig.T\n",
    "Y_test = Y_test_orig.T\n",
    "\n",
    "print (\"number of training examples = \" + str(X_train.shape[0]))\n",
    "print (\"number of test examples = \" + str(X_test.shape[0]))\n",
    "print (\"X_train shape: \" + str(X_train.shape))\n",
    "print (\"Y_train shape: \" + str(Y_train.shape))\n",
    "print (\"X_test shape: \" + str(X_test.shape))\n",
    "print (\"Y_test shape: \" + str(Y_test.shape))\n"
   ]
  },
  {
   "cell_type": "markdown",
   "metadata": {},
   "source": [
    "**Details of the \"Face\" dataset**:\n",
    "- Images are of shape (64,64,3)\n",
    "- Training: 600 pictures\n",
    "- Test: 150 pictures"
   ]
  },
  {
   "cell_type": "markdown",
   "metadata": {},
   "source": [
    "## 2 - Building a model in Keras\n",
    "\n",
    "Keras is very good for rapid prototyping. In just a short time you will be able to build a model that achieves outstanding results.\n",
    "\n",
    "Here is an example of a model in Keras:\n",
    "\n",
    "```python\n",
    "def model(input_shape):\n",
    "    \"\"\"\n",
    "    input_shape: The height, width and channels as a tuple.  \n",
    "        Note that this does not include the 'batch' as a dimension.\n",
    "        If you have a batch like 'X_train', \n",
    "        then you can provide the input_shape using\n",
    "        X_train.shape[1:]\n",
    "    \"\"\"\n",
    "    \n",
    "    # Define the input placeholder as a tensor with shape input_shape. Think of this as your input image!\n",
    "    X_input = Input(input_shape)\n",
    "\n",
    "    # Zero-Padding: pads the border of X_input with zeroes\n",
    "    X = ZeroPadding2D((3, 3))(X_input)\n",
    "\n",
    "    # CONV -> BN -> RELU Block applied to X\n",
    "    X = Conv2D(32, (7, 7), strides = (1, 1), name = 'conv0')(X)\n",
    "    X = BatchNormalization(axis = 3, name = 'bn0')(X)\n",
    "    X = Activation('relu')(X)\n",
    "\n",
    "    # MAXPOOL\n",
    "    X = MaxPooling2D((2, 2), name='max_pool')(X)\n",
    "\n",
    "    # FLATTEN X (means convert it to a vector) + FULLYCONNECTED\n",
    "    X = Flatten()(X)\n",
    "    X = Dense(1, activation='sigmoid', name='fc')(X)\n",
    "\n",
    "    # Create model. This creates your Keras model instance, you'll use this instance to train/test the model.\n",
    "    model = Model(inputs = X_input, outputs = X, name='HappyModel')\n",
    "    \n",
    "    return model\n",
    "```"
   ]
  },
  {
   "cell_type": "markdown",
   "metadata": {},
   "source": [
    "#### Variable naming convention\n",
    "\n",
    "* Note that Keras uses a different convention with variable names than we've previously used with numpy and TensorFlow. \n",
    "* Instead of creating unique variable names for each step and each layer, such as \n",
    "```\n",
    "X = ...\n",
    "Z1 = ...\n",
    "A1 = ...\n",
    "```\n",
    "* Keras re-uses and overwrites the same variable at each step:\n",
    "```\n",
    "X = ...\n",
    "X = ...\n",
    "X = ...\n",
    "```\n",
    "* The exception is `X_input`, which we kept separate since it's needed later."
   ]
  },
  {
   "cell_type": "markdown",
   "metadata": {},
   "source": [
    "#### Objects as functions\n",
    "* Notice how there are two pairs of parentheses in each statement.  For example:\n",
    "```\n",
    "X = ZeroPadding2D((3, 3))(X_input)\n",
    "```\n",
    "* The first is a constructor call which creates an object (ZeroPadding2D).\n",
    "* In Python, objects can be called as functions. Search for 'python object as function and you can read this blog post [Python Pandemonium](https://medium.com/python-pandemonium/function-as-objects-in-python-d5215e6d1b0d).  See the section titled \"Objects as functions.\"\n",
    "* The single line is equivalent to this:\n",
    "```\n",
    "ZP = ZeroPadding2D((3, 3)) # ZP is an object that can be called as a function\n",
    "X = ZP(X_input) \n",
    "```"
   ]
  },
  {
   "cell_type": "markdown",
   "metadata": {},
   "source": [
    "**Exercise**: Implement a `HappyModel()`.  \n",
    "* This assignment is more open-ended than most. \n",
    "* Start by implementing a model using the architecture we suggest, and run through the rest of this assignment using that as your initial model. * Later, come back and try out other model architectures. \n",
    "* For example, you might take inspiration from the model above, but then vary the network architecture and hyperparameters however you wish. \n",
    "* You can also use other functions such as `AveragePooling2D()`, `GlobalMaxPooling2D()`, `Dropout()`. \n",
    "\n",
    "**Note**: Be careful with your data's shapes. Use what you've learned in the videos to make sure your convolutional, pooling and fully-connected layers are adapted to the volumes you're applying it to."
   ]
  },
  {
   "cell_type": "code",
   "execution_count": 3,
   "metadata": {
    "collapsed": true
   },
   "outputs": [],
   "source": [
    "# GRADED FUNCTION: HappyModel\n",
    "def HappyModel(input_shape):\n",
    "    \"\"\"\n",
    "    Implementation of the HappyModel.\n",
    "    \n",
    "    Arguments:\n",
    "    input_shape -- shape of the images of the dataset\n",
    "        (height, width, channels) as a tuple.  \n",
    "        Note that this does not include the 'batch' as a dimension.\n",
    "        If you have a batch like 'X_train', \n",
    "        then you can provide the input_shape using\n",
    "        X_train.shape[1:]\n",
    "    \n",
    "    \n",
    "\n",
    "    Returns:\n",
    "    model -- a Model() instance in Keras\n",
    "    \"\"\"\n",
    "    \n",
    "    ### START CODE HERE ###\n",
    "    \n",
    "    # Define the input placeholder as a tensor with shape input_shape. Think of this as your input image!\n",
    "    X_input = Input(input_shape)\n",
    "\n",
    "    # Zero-Padding: pads the border of X_input with zeroes\n",
    "    X = ZeroPadding2D((3, 3))(X_input)\n",
    "\n",
    "    # CONV -> BN -> RELU Block applied to X\n",
    "    X = Conv2D(32, (7, 7), strides = (1, 1), name = 'conv0')(X)\n",
    "    X = BatchNormalization(axis = 3, name = 'bn0')(X)\n",
    "    X = Activation('relu')(X)\n",
    "\n",
    "    # MAXPOOL\n",
    "    X = MaxPooling2D((2, 2), name='max_pool0')(X)\n",
    "\n",
    "    # CONV -> BN -> RELU Block applied to X\n",
    "    #X = Conv2D(64, (5, 5), strides = (1, 1), name = 'conv1')(X)\n",
    "    #X = BatchNormalization(axis = 3, name = 'bn1')(X)\n",
    "    #X = Activation('relu')(X)\n",
    "\n",
    "    # MAXPOOL\n",
    "    #X = MaxPooling2D((2, 2), name='max_pool1')(X)\n",
    "\n",
    "    # FLATTEN X (means convert it to a vector) + FULLYCONNECTED\n",
    "    X = Flatten()(X)\n",
    "    X = Dense(1, activation='sigmoid', name='fc')(X)\n",
    "\n",
    "    # Create model. This creates your Keras model instance, you'll use this instance to train/test the model.\n",
    "    model = Model(inputs = X_input, outputs = X, name='HappyModel')\n",
    "    return model\n",
    "    \n",
    "    \n",
    "    ### END CODE HERE ###\n",
    "    "
   ]
  },
  {
   "cell_type": "markdown",
   "metadata": {},
   "source": [
    "You have now built a function to describe your model. To train and test this model, there are four steps in Keras:\n",
    "1. Create the model by calling the function above  \n",
    "\n",
    "2. Compile the model by calling `model.compile(optimizer = \"...\", loss = \"...\", metrics = [\"accuracy\"])`  \n",
    "\n",
    "3. Train the model on train data by calling `model.fit(x = ..., y = ..., epochs = ..., batch_size = ...)`  \n",
    "\n",
    "4. Test the model on test data by calling `model.evaluate(x = ..., y = ...)`  \n",
    "\n",
    "If you want to know more about `model.compile()`, `model.fit()`, `model.evaluate()` and their arguments, refer to the official [Keras documentation](https://keras.io/models/model/)."
   ]
  },
  {
   "cell_type": "markdown",
   "metadata": {},
   "source": [
    "#### Step 1: create the model.  \n",
    "**Hint**:  \n",
    "The `input_shape` parameter is a tuple (height, width, channels).  It excludes the batch number.  \n",
    "Try `X_train.shape[1:]` as the `input_shape`."
   ]
  },
  {
   "cell_type": "code",
   "execution_count": 4,
   "metadata": {
    "collapsed": true,
    "tags": []
   },
   "outputs": [
    {
     "output_type": "stream",
     "name": "stdout",
     "text": "Model: \"HappyModel\"\n_________________________________________________________________\nLayer (type)                 Output Shape              Param #   \n=================================================================\ninput_1 (InputLayer)         [(None, 128, 128, 3)]     0         \n_________________________________________________________________\nzero_padding2d (ZeroPadding2 (None, 134, 134, 3)       0         \n_________________________________________________________________\nconv0 (Conv2D)               (None, 128, 128, 32)      4736      \n_________________________________________________________________\nbn0 (BatchNormalization)     (None, 128, 128, 32)      128       \n_________________________________________________________________\nactivation (Activation)      (None, 128, 128, 32)      0         \n_________________________________________________________________\nmax_pool0 (MaxPooling2D)     (None, 64, 64, 32)        0         \n_________________________________________________________________\nflatten (Flatten)            (None, 131072)            0         \n_________________________________________________________________\nfc (Dense)                   (None, 1)                 131073    \n=================================================================\nTotal params: 135,937\nTrainable params: 135,873\nNon-trainable params: 64\n_________________________________________________________________\n"
    }
   ],
   "source": [
    "### START CODE HERE ### (1 line)\n",
    "model = HappyModel(X_train.shape[1:])\n",
    "model.summary()\n",
    "### END CODE HERE ###"
   ]
  },
  {
   "cell_type": "markdown",
   "metadata": {},
   "source": [
    "#### Step 2: compile the model\n",
    "\n",
    "**Hint**:  \n",
    "Optimizers you can try include `'adam'`, `'sgd'` or others.  See the documentation for [optimizers](https://keras.io/optimizers/)  \n",
    "The \"happiness detection\" is a binary classification problem.  The loss function that you can use is `'binary_cross_entropy'`.  Note that `'categorical_cross_entropy'` won't work with your data set as its formatted, because the data is an array of 0 or 1 rather than two arrays (one for each category).  Documentation for [losses](https://keras.io/losses/)"
   ]
  },
  {
   "cell_type": "code",
   "execution_count": 5,
   "metadata": {
    "collapsed": true
   },
   "outputs": [],
   "source": [
    "### START CODE HERE ### (1 line)\n",
    "model.compile(optimizer = \"adam\", loss = \"binary_crossentropy\", metrics = [\"accuracy\"])\n",
    "### END CODE HERE ###"
   ]
  },
  {
   "cell_type": "markdown",
   "metadata": {},
   "source": [
    "#### Step 3: train the model\n",
    "\n",
    "**Hint**:  \n",
    "Use the `'X_train'`, `'Y_train'` variables.  Use integers for the epochs and batch_size\n",
    "\n",
    "**Note**: If you run `fit()` again, the `model` will continue to train with the parameters it has already learned instead of reinitializing them."
   ]
  },
  {
   "cell_type": "code",
   "execution_count": 6,
   "metadata": {
    "collapsed": true,
    "tags": []
   },
   "outputs": [
    {
     "output_type": "stream",
     "name": "stdout",
     "text": "Epoch 1/10\n197/197 [==============================] - 102s 517ms/step - loss: 3.4198 - accuracy: 0.5649\nEpoch 2/10\n197/197 [==============================] - 80s 406ms/step - loss: 2.3237 - accuracy: 0.6439\nEpoch 3/10\n197/197 [==============================] - 80s 405ms/step - loss: 2.1446 - accuracy: 0.6909\nEpoch 4/10\n197/197 [==============================] - 79s 401ms/step - loss: 1.5544 - accuracy: 0.7236\nEpoch 5/10\n197/197 [==============================] - 85s 433ms/step - loss: 1.0174 - accuracy: 0.7813\nEpoch 6/10\n197/197 [==============================] - 88s 446ms/step - loss: 0.9679 - accuracy: 0.7855\nEpoch 7/10\n197/197 [==============================] - 89s 453ms/step - loss: 0.6406 - accuracy: 0.8289\nEpoch 8/10\n197/197 [==============================] - 86s 435ms/step - loss: 0.3896 - accuracy: 0.8797\nEpoch 9/10\n197/197 [==============================] - 81s 411ms/step - loss: 0.2930 - accuracy: 0.9003\nEpoch 10/10\n197/197 [==============================] - 79s 402ms/step - loss: 0.1830 - accuracy: 0.9248\n"
    },
    {
     "output_type": "execute_result",
     "data": {
      "text/plain": "<tensorflow.python.keras.callbacks.History at 0x2328c847b70>"
     },
     "metadata": {},
     "execution_count": 6
    }
   ],
   "source": [
    "### START CODE HERE ### (1 line)\n",
    "model.fit(x = X_train, y = Y_train, epochs = 10, batch_size = 16)\n",
    "### END CODE HERE ###"
   ]
  },
  {
   "cell_type": "markdown",
   "metadata": {},
   "source": [
    "#### Step 4: evaluate model  \n",
    "**Hint**:  \n",
    "Use the `'X_test'` and `'Y_test'` variables to evaluate the model's performance."
   ]
  },
  {
   "cell_type": "code",
   "execution_count": 7,
   "metadata": {
    "collapsed": true,
    "scrolled": true,
    "tags": []
   },
   "outputs": [
    {
     "output_type": "stream",
     "name": "stdout",
     "text": "25/25 [==============================] - 3s 134ms/step - loss: 1.8376 - accuracy: 0.6396\n\nLoss = 1.8375518321990967\nTest Accuracy = 0.6395938992500305\n"
    }
   ],
   "source": [
    "### START CODE HERE ### (1 line)\n",
    "preds = model.evaluate(x = X_test, y = Y_test)\n",
    "### END CODE HERE ###\n",
    "print()\n",
    "print (\"Loss = \" + str(preds[0]))\n",
    "print (\"Test Accuracy = \" + str(preds[1]))"
   ]
  },
  {
   "cell_type": "markdown",
   "metadata": {},
   "source": [
    "#### Expected performance   \n",
    "If your `happyModel()` function worked, its accuracy should be better than random guessing (50% accuracy).\n",
    "\n",
    "To give you a point of comparison, our model gets around **95% test accuracy in 40 epochs** (and 99% train accuracy) with a mini batch size of 16 and \"adam\" optimizer."
   ]
  },
  {
   "cell_type": "markdown",
   "metadata": {},
   "source": [
    "#### Tips for improving your model\n",
    "\n",
    "If you have not yet achieved a very good accuracy (>= 80%), here are some things tips:\n",
    "\n",
    "- Use blocks of CONV->BATCHNORM->RELU such as:\n",
    "```python\n",
    "X = Conv2D(32, (3, 3), strides = (1, 1), name = 'conv0')(X)\n",
    "X = BatchNormalization(axis = 3, name = 'bn0')(X)\n",
    "X = Activation('relu')(X)\n",
    "```\n",
    "until your height and width dimensions are quite low and your number of channels quite large (≈32 for example).  \n",
    "You can then flatten the volume and use a fully-connected layer.\n",
    "- Use MAXPOOL after such blocks.  It will help you lower the dimension in height and width.\n",
    "- Change your optimizer. We find 'adam' works well. \n",
    "- If you get memory issues, lower your batch_size (e.g. 12 )\n",
    "- Run more epochs until you see the train accuracy no longer improves. \n",
    "\n",
    "**Note**: If you perform hyperparameter tuning on your model, the test set actually becomes a dev set, and your model might end up overfitting to the test (dev) set. Normally, you'll want separate dev and test sets.  The dev set is used for parameter tuning, and the test set is used once to estimate the model's performance in production."
   ]
  },
  {
   "cell_type": "markdown",
   "metadata": {},
   "source": [
    "## 3 - Conclusion\n",
    "\n",
    "Congratulations, you have created a proof of concept for \"happiness detection\"!"
   ]
  },
  {
   "cell_type": "markdown",
   "metadata": {},
   "source": [
    "## Key Points to remember\n",
    "- Keras is a tool we recommend for rapid prototyping. It allows you to quickly try out different model architectures.\n",
    "- Remember The four steps in Keras: \n",
    "\n",
    "\n",
    "1. Create  \n",
    "2. Compile  \n",
    "3. Fit/Train  \n",
    "4. Evaluate/Test  "
   ]
  },
  {
   "cell_type": "markdown",
   "metadata": {},
   "source": [
    "## 4 - Test with your own image (Optional)\n",
    "\n",
    "Congratulations on finishing this assignment. You can now take a picture of your face and see if it can classify whether your expression is \"happy\" or \"not happy\". To do that:\n",
    "\n",
    "\n",
    "1. Click on \"File\" in the upper bar of this notebook, then click \"Open\" to go on your Coursera Hub.\n",
    "2. Add your image to this Jupyter Notebook's directory, in the \"images\" folder\n",
    "3. Write your image's name in the following code\n",
    "4. Run the code and check if the algorithm is right (0 is not happy, 1 is happy)!\n",
    "    \n",
    "The training/test sets were quite similar; for example, all the pictures were taken against the same background (since a front door camera is always mounted in the same position). This makes the problem easier, but a model trained on this data may or may not work on your own data. But feel free to give it a try! "
   ]
  },
  {
   "cell_type": "code",
   "execution_count": 60,
   "metadata": {
    "collapsed": true,
    "tags": []
   },
   "outputs": [
    {
     "output_type": "stream",
     "name": "stdout",
     "text": "[[1.]]\n"
    },
    {
     "output_type": "display_data",
     "data": {
      "text/plain": "<Figure size 432x288 with 1 Axes>",
      "image/svg+xml": "<?xml version=\"1.0\" encoding=\"utf-8\" standalone=\"no\"?>\r\n<!DOCTYPE svg PUBLIC \"-//W3C//DTD SVG 1.1//EN\"\r\n  \"http://www.w3.org/Graphics/SVG/1.1/DTD/svg11.dtd\">\r\n<!-- Created with matplotlib (https://matplotlib.org/) -->\r\n<svg height=\"250.618594pt\" version=\"1.1\" viewBox=\"0 0 251.565 250.618594\" width=\"251.565pt\" xmlns=\"http://www.w3.org/2000/svg\" xmlns:xlink=\"http://www.w3.org/1999/xlink\">\r\n <defs>\r\n  <style type=\"text/css\">\r\n*{stroke-linecap:butt;stroke-linejoin:round;}\r\n  </style>\r\n </defs>\r\n <g id=\"figure_1\">\r\n  <g id=\"patch_1\">\r\n   <path d=\"M 0 250.618594 \r\nL 251.565 250.618594 \r\nL 251.565 0 \r\nL 0 0 \r\nz\r\n\" style=\"fill:none;\"/>\r\n  </g>\r\n  <g id=\"axes_1\">\r\n   <g id=\"patch_2\">\r\n    <path d=\"M 26.925 226.740469 \r\nL 244.365 226.740469 \r\nL 244.365 9.300469 \r\nL 26.925 9.300469 \r\nz\r\n\" style=\"fill:#ffffff;\"/>\r\n   </g>\r\n   <g clip-path=\"url(#p252a9b02fc)\">\r\n    <image height=\"218\" id=\"image72cf5586e6\" transform=\"scale(1 -1)translate(0 -218)\" width=\"218\" x=\"26.925\" xlink:href=\"data:image/png;base64,\r\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\" y=\"-8.740469\"/>\r\n   </g>\r\n   <g id=\"matplotlib.axis_1\">\r\n    <g id=\"xtick_1\">\r\n     <g id=\"line2d_1\">\r\n      <defs>\r\n       <path d=\"M 0 0 \r\nL 0 3.5 \r\n\" id=\"m6dbac12ae7\" style=\"stroke:#000000;stroke-width:0.8;\"/>\r\n      </defs>\r\n      <g>\r\n       <use style=\"stroke:#000000;stroke-width:0.8;\" x=\"28.62375\" xlink:href=\"#m6dbac12ae7\" y=\"226.740469\"/>\r\n      </g>\r\n     </g>\r\n     <g id=\"text_1\">\r\n      <!-- 0 -->\r\n      <defs>\r\n       <path d=\"M 31.78125 66.40625 \r\nQ 24.171875 66.40625 20.328125 58.90625 \r\nQ 16.5 51.421875 16.5 36.375 \r\nQ 16.5 21.390625 20.328125 13.890625 \r\nQ 24.171875 6.390625 31.78125 6.390625 \r\nQ 39.453125 6.390625 43.28125 13.890625 \r\nQ 47.125 21.390625 47.125 36.375 \r\nQ 47.125 51.421875 43.28125 58.90625 \r\nQ 39.453125 66.40625 31.78125 66.40625 \r\nz\r\nM 31.78125 74.21875 \r\nQ 44.046875 74.21875 50.515625 64.515625 \r\nQ 56.984375 54.828125 56.984375 36.375 \r\nQ 56.984375 17.96875 50.515625 8.265625 \r\nQ 44.046875 -1.421875 31.78125 -1.421875 \r\nQ 19.53125 -1.421875 13.0625 8.265625 \r\nQ 6.59375 17.96875 6.59375 36.375 \r\nQ 6.59375 54.828125 13.0625 64.515625 \r\nQ 19.53125 74.21875 31.78125 74.21875 \r\nz\r\n\" id=\"DejaVuSans-48\"/>\r\n      </defs>\r\n      <g transform=\"translate(25.4425 241.338906)scale(0.1 -0.1)\">\r\n       <use xlink:href=\"#DejaVuSans-48\"/>\r\n      </g>\r\n     </g>\r\n    </g>\r\n    <g id=\"xtick_2\">\r\n     <g id=\"line2d_2\">\r\n      <g>\r\n       <use style=\"stroke:#000000;stroke-width:0.8;\" x=\"62.59875\" xlink:href=\"#m6dbac12ae7\" y=\"226.740469\"/>\r\n      </g>\r\n     </g>\r\n     <g id=\"text_2\">\r\n      <!-- 10 -->\r\n      <defs>\r\n       <path d=\"M 12.40625 8.296875 \r\nL 28.515625 8.296875 \r\nL 28.515625 63.921875 \r\nL 10.984375 60.40625 \r\nL 10.984375 69.390625 \r\nL 28.421875 72.90625 \r\nL 38.28125 72.90625 \r\nL 38.28125 8.296875 \r\nL 54.390625 8.296875 \r\nL 54.390625 0 \r\nL 12.40625 0 \r\nz\r\n\" id=\"DejaVuSans-49\"/>\r\n      </defs>\r\n      <g transform=\"translate(56.23625 241.338906)scale(0.1 -0.1)\">\r\n       <use xlink:href=\"#DejaVuSans-49\"/>\r\n       <use x=\"63.623047\" xlink:href=\"#DejaVuSans-48\"/>\r\n      </g>\r\n     </g>\r\n    </g>\r\n    <g id=\"xtick_3\">\r\n     <g id=\"line2d_3\">\r\n      <g>\r\n       <use style=\"stroke:#000000;stroke-width:0.8;\" x=\"96.57375\" xlink:href=\"#m6dbac12ae7\" y=\"226.740469\"/>\r\n      </g>\r\n     </g>\r\n     <g id=\"text_3\">\r\n      <!-- 20 -->\r\n      <defs>\r\n       <path d=\"M 19.1875 8.296875 \r\nL 53.609375 8.296875 \r\nL 53.609375 0 \r\nL 7.328125 0 \r\nL 7.328125 8.296875 \r\nQ 12.9375 14.109375 22.625 23.890625 \r\nQ 32.328125 33.6875 34.8125 36.53125 \r\nQ 39.546875 41.84375 41.421875 45.53125 \r\nQ 43.3125 49.21875 43.3125 52.78125 \r\nQ 43.3125 58.59375 39.234375 62.25 \r\nQ 35.15625 65.921875 28.609375 65.921875 \r\nQ 23.96875 65.921875 18.8125 64.3125 \r\nQ 13.671875 62.703125 7.8125 59.421875 \r\nL 7.8125 69.390625 \r\nQ 13.765625 71.78125 18.9375 73 \r\nQ 24.125 74.21875 28.421875 74.21875 \r\nQ 39.75 74.21875 46.484375 68.546875 \r\nQ 53.21875 62.890625 53.21875 53.421875 \r\nQ 53.21875 48.921875 51.53125 44.890625 \r\nQ 49.859375 40.875 45.40625 35.40625 \r\nQ 44.1875 33.984375 37.640625 27.21875 \r\nQ 31.109375 20.453125 19.1875 8.296875 \r\nz\r\n\" id=\"DejaVuSans-50\"/>\r\n      </defs>\r\n      <g transform=\"translate(90.21125 241.338906)scale(0.1 -0.1)\">\r\n       <use xlink:href=\"#DejaVuSans-50\"/>\r\n       <use x=\"63.623047\" xlink:href=\"#DejaVuSans-48\"/>\r\n      </g>\r\n     </g>\r\n    </g>\r\n    <g id=\"xtick_4\">\r\n     <g id=\"line2d_4\">\r\n      <g>\r\n       <use style=\"stroke:#000000;stroke-width:0.8;\" x=\"130.54875\" xlink:href=\"#m6dbac12ae7\" y=\"226.740469\"/>\r\n      </g>\r\n     </g>\r\n     <g id=\"text_4\">\r\n      <!-- 30 -->\r\n      <defs>\r\n       <path d=\"M 40.578125 39.3125 \r\nQ 47.65625 37.796875 51.625 33 \r\nQ 55.609375 28.21875 55.609375 21.1875 \r\nQ 55.609375 10.40625 48.1875 4.484375 \r\nQ 40.765625 -1.421875 27.09375 -1.421875 \r\nQ 22.515625 -1.421875 17.65625 -0.515625 \r\nQ 12.796875 0.390625 7.625 2.203125 \r\nL 7.625 11.71875 \r\nQ 11.71875 9.328125 16.59375 8.109375 \r\nQ 21.484375 6.890625 26.8125 6.890625 \r\nQ 36.078125 6.890625 40.9375 10.546875 \r\nQ 45.796875 14.203125 45.796875 21.1875 \r\nQ 45.796875 27.640625 41.28125 31.265625 \r\nQ 36.765625 34.90625 28.71875 34.90625 \r\nL 20.21875 34.90625 \r\nL 20.21875 43.015625 \r\nL 29.109375 43.015625 \r\nQ 36.375 43.015625 40.234375 45.921875 \r\nQ 44.09375 48.828125 44.09375 54.296875 \r\nQ 44.09375 59.90625 40.109375 62.90625 \r\nQ 36.140625 65.921875 28.71875 65.921875 \r\nQ 24.65625 65.921875 20.015625 65.03125 \r\nQ 15.375 64.15625 9.8125 62.3125 \r\nL 9.8125 71.09375 \r\nQ 15.4375 72.65625 20.34375 73.4375 \r\nQ 25.25 74.21875 29.59375 74.21875 \r\nQ 40.828125 74.21875 47.359375 69.109375 \r\nQ 53.90625 64.015625 53.90625 55.328125 \r\nQ 53.90625 49.265625 50.4375 45.09375 \r\nQ 46.96875 40.921875 40.578125 39.3125 \r\nz\r\n\" id=\"DejaVuSans-51\"/>\r\n      </defs>\r\n      <g transform=\"translate(124.18625 241.338906)scale(0.1 -0.1)\">\r\n       <use xlink:href=\"#DejaVuSans-51\"/>\r\n       <use x=\"63.623047\" xlink:href=\"#DejaVuSans-48\"/>\r\n      </g>\r\n     </g>\r\n    </g>\r\n    <g id=\"xtick_5\">\r\n     <g id=\"line2d_5\">\r\n      <g>\r\n       <use style=\"stroke:#000000;stroke-width:0.8;\" x=\"164.52375\" xlink:href=\"#m6dbac12ae7\" y=\"226.740469\"/>\r\n      </g>\r\n     </g>\r\n     <g id=\"text_5\">\r\n      <!-- 40 -->\r\n      <defs>\r\n       <path d=\"M 37.796875 64.3125 \r\nL 12.890625 25.390625 \r\nL 37.796875 25.390625 \r\nz\r\nM 35.203125 72.90625 \r\nL 47.609375 72.90625 \r\nL 47.609375 25.390625 \r\nL 58.015625 25.390625 \r\nL 58.015625 17.1875 \r\nL 47.609375 17.1875 \r\nL 47.609375 0 \r\nL 37.796875 0 \r\nL 37.796875 17.1875 \r\nL 4.890625 17.1875 \r\nL 4.890625 26.703125 \r\nz\r\n\" id=\"DejaVuSans-52\"/>\r\n      </defs>\r\n      <g transform=\"translate(158.16125 241.338906)scale(0.1 -0.1)\">\r\n       <use xlink:href=\"#DejaVuSans-52\"/>\r\n       <use x=\"63.623047\" xlink:href=\"#DejaVuSans-48\"/>\r\n      </g>\r\n     </g>\r\n    </g>\r\n    <g id=\"xtick_6\">\r\n     <g id=\"line2d_6\">\r\n      <g>\r\n       <use style=\"stroke:#000000;stroke-width:0.8;\" x=\"198.49875\" xlink:href=\"#m6dbac12ae7\" y=\"226.740469\"/>\r\n      </g>\r\n     </g>\r\n     <g id=\"text_6\">\r\n      <!-- 50 -->\r\n      <defs>\r\n       <path d=\"M 10.796875 72.90625 \r\nL 49.515625 72.90625 \r\nL 49.515625 64.59375 \r\nL 19.828125 64.59375 \r\nL 19.828125 46.734375 \r\nQ 21.96875 47.46875 24.109375 47.828125 \r\nQ 26.265625 48.1875 28.421875 48.1875 \r\nQ 40.625 48.1875 47.75 41.5 \r\nQ 54.890625 34.8125 54.890625 23.390625 \r\nQ 54.890625 11.625 47.5625 5.09375 \r\nQ 40.234375 -1.421875 26.90625 -1.421875 \r\nQ 22.3125 -1.421875 17.546875 -0.640625 \r\nQ 12.796875 0.140625 7.71875 1.703125 \r\nL 7.71875 11.625 \r\nQ 12.109375 9.234375 16.796875 8.0625 \r\nQ 21.484375 6.890625 26.703125 6.890625 \r\nQ 35.15625 6.890625 40.078125 11.328125 \r\nQ 45.015625 15.765625 45.015625 23.390625 \r\nQ 45.015625 31 40.078125 35.4375 \r\nQ 35.15625 39.890625 26.703125 39.890625 \r\nQ 22.75 39.890625 18.8125 39.015625 \r\nQ 14.890625 38.140625 10.796875 36.28125 \r\nz\r\n\" id=\"DejaVuSans-53\"/>\r\n      </defs>\r\n      <g transform=\"translate(192.13625 241.338906)scale(0.1 -0.1)\">\r\n       <use xlink:href=\"#DejaVuSans-53\"/>\r\n       <use x=\"63.623047\" xlink:href=\"#DejaVuSans-48\"/>\r\n      </g>\r\n     </g>\r\n    </g>\r\n    <g id=\"xtick_7\">\r\n     <g id=\"line2d_7\">\r\n      <g>\r\n       <use style=\"stroke:#000000;stroke-width:0.8;\" x=\"232.47375\" xlink:href=\"#m6dbac12ae7\" y=\"226.740469\"/>\r\n      </g>\r\n     </g>\r\n     <g id=\"text_7\">\r\n      <!-- 60 -->\r\n      <defs>\r\n       <path d=\"M 33.015625 40.375 \r\nQ 26.375 40.375 22.484375 35.828125 \r\nQ 18.609375 31.296875 18.609375 23.390625 \r\nQ 18.609375 15.53125 22.484375 10.953125 \r\nQ 26.375 6.390625 33.015625 6.390625 \r\nQ 39.65625 6.390625 43.53125 10.953125 \r\nQ 47.40625 15.53125 47.40625 23.390625 \r\nQ 47.40625 31.296875 43.53125 35.828125 \r\nQ 39.65625 40.375 33.015625 40.375 \r\nz\r\nM 52.59375 71.296875 \r\nL 52.59375 62.3125 \r\nQ 48.875 64.0625 45.09375 64.984375 \r\nQ 41.3125 65.921875 37.59375 65.921875 \r\nQ 27.828125 65.921875 22.671875 59.328125 \r\nQ 17.53125 52.734375 16.796875 39.40625 \r\nQ 19.671875 43.65625 24.015625 45.921875 \r\nQ 28.375 48.1875 33.59375 48.1875 \r\nQ 44.578125 48.1875 50.953125 41.515625 \r\nQ 57.328125 34.859375 57.328125 23.390625 \r\nQ 57.328125 12.15625 50.6875 5.359375 \r\nQ 44.046875 -1.421875 33.015625 -1.421875 \r\nQ 20.359375 -1.421875 13.671875 8.265625 \r\nQ 6.984375 17.96875 6.984375 36.375 \r\nQ 6.984375 53.65625 15.1875 63.9375 \r\nQ 23.390625 74.21875 37.203125 74.21875 \r\nQ 40.921875 74.21875 44.703125 73.484375 \r\nQ 48.484375 72.75 52.59375 71.296875 \r\nz\r\n\" id=\"DejaVuSans-54\"/>\r\n      </defs>\r\n      <g transform=\"translate(226.11125 241.338906)scale(0.1 -0.1)\">\r\n       <use xlink:href=\"#DejaVuSans-54\"/>\r\n       <use x=\"63.623047\" xlink:href=\"#DejaVuSans-48\"/>\r\n      </g>\r\n     </g>\r\n    </g>\r\n   </g>\r\n   <g id=\"matplotlib.axis_2\">\r\n    <g id=\"ytick_1\">\r\n     <g id=\"line2d_8\">\r\n      <defs>\r\n       <path d=\"M 0 0 \r\nL -3.5 0 \r\n\" id=\"m3d714003f3\" style=\"stroke:#000000;stroke-width:0.8;\"/>\r\n      </defs>\r\n      <g>\r\n       <use style=\"stroke:#000000;stroke-width:0.8;\" x=\"26.925\" xlink:href=\"#m3d714003f3\" y=\"10.999219\"/>\r\n      </g>\r\n     </g>\r\n     <g id=\"text_8\">\r\n      <!-- 0 -->\r\n      <g transform=\"translate(13.5625 14.798437)scale(0.1 -0.1)\">\r\n       <use xlink:href=\"#DejaVuSans-48\"/>\r\n      </g>\r\n     </g>\r\n    </g>\r\n    <g id=\"ytick_2\">\r\n     <g id=\"line2d_9\">\r\n      <g>\r\n       <use style=\"stroke:#000000;stroke-width:0.8;\" x=\"26.925\" xlink:href=\"#m3d714003f3\" y=\"44.974219\"/>\r\n      </g>\r\n     </g>\r\n     <g id=\"text_9\">\r\n      <!-- 10 -->\r\n      <g transform=\"translate(7.2 48.773437)scale(0.1 -0.1)\">\r\n       <use xlink:href=\"#DejaVuSans-49\"/>\r\n       <use x=\"63.623047\" xlink:href=\"#DejaVuSans-48\"/>\r\n      </g>\r\n     </g>\r\n    </g>\r\n    <g id=\"ytick_3\">\r\n     <g id=\"line2d_10\">\r\n      <g>\r\n       <use style=\"stroke:#000000;stroke-width:0.8;\" x=\"26.925\" xlink:href=\"#m3d714003f3\" y=\"78.949219\"/>\r\n      </g>\r\n     </g>\r\n     <g id=\"text_10\">\r\n      <!-- 20 -->\r\n      <g transform=\"translate(7.2 82.748437)scale(0.1 -0.1)\">\r\n       <use xlink:href=\"#DejaVuSans-50\"/>\r\n       <use x=\"63.623047\" xlink:href=\"#DejaVuSans-48\"/>\r\n      </g>\r\n     </g>\r\n    </g>\r\n    <g id=\"ytick_4\">\r\n     <g id=\"line2d_11\">\r\n      <g>\r\n       <use style=\"stroke:#000000;stroke-width:0.8;\" x=\"26.925\" xlink:href=\"#m3d714003f3\" y=\"112.924219\"/>\r\n      </g>\r\n     </g>\r\n     <g id=\"text_11\">\r\n      <!-- 30 -->\r\n      <g transform=\"translate(7.2 116.723437)scale(0.1 -0.1)\">\r\n       <use xlink:href=\"#DejaVuSans-51\"/>\r\n       <use x=\"63.623047\" xlink:href=\"#DejaVuSans-48\"/>\r\n      </g>\r\n     </g>\r\n    </g>\r\n    <g id=\"ytick_5\">\r\n     <g id=\"line2d_12\">\r\n      <g>\r\n       <use style=\"stroke:#000000;stroke-width:0.8;\" x=\"26.925\" xlink:href=\"#m3d714003f3\" y=\"146.899219\"/>\r\n      </g>\r\n     </g>\r\n     <g id=\"text_12\">\r\n      <!-- 40 -->\r\n      <g transform=\"translate(7.2 150.698437)scale(0.1 -0.1)\">\r\n       <use xlink:href=\"#DejaVuSans-52\"/>\r\n       <use x=\"63.623047\" xlink:href=\"#DejaVuSans-48\"/>\r\n      </g>\r\n     </g>\r\n    </g>\r\n    <g id=\"ytick_6\">\r\n     <g id=\"line2d_13\">\r\n      <g>\r\n       <use style=\"stroke:#000000;stroke-width:0.8;\" x=\"26.925\" xlink:href=\"#m3d714003f3\" y=\"180.874219\"/>\r\n      </g>\r\n     </g>\r\n     <g id=\"text_13\">\r\n      <!-- 50 -->\r\n      <g transform=\"translate(7.2 184.673437)scale(0.1 -0.1)\">\r\n       <use xlink:href=\"#DejaVuSans-53\"/>\r\n       <use x=\"63.623047\" xlink:href=\"#DejaVuSans-48\"/>\r\n      </g>\r\n     </g>\r\n    </g>\r\n    <g id=\"ytick_7\">\r\n     <g id=\"line2d_14\">\r\n      <g>\r\n       <use style=\"stroke:#000000;stroke-width:0.8;\" x=\"26.925\" xlink:href=\"#m3d714003f3\" y=\"214.849219\"/>\r\n      </g>\r\n     </g>\r\n     <g id=\"text_14\">\r\n      <!-- 60 -->\r\n      <g transform=\"translate(7.2 218.648437)scale(0.1 -0.1)\">\r\n       <use xlink:href=\"#DejaVuSans-54\"/>\r\n       <use x=\"63.623047\" xlink:href=\"#DejaVuSans-48\"/>\r\n      </g>\r\n     </g>\r\n    </g>\r\n   </g>\r\n   <g id=\"patch_3\">\r\n    <path d=\"M 26.925 226.740469 \r\nL 26.925 9.300469 \r\n\" style=\"fill:none;stroke:#000000;stroke-linecap:square;stroke-linejoin:miter;stroke-width:0.8;\"/>\r\n   </g>\r\n   <g id=\"patch_4\">\r\n    <path d=\"M 244.365 226.740469 \r\nL 244.365 9.300469 \r\n\" style=\"fill:none;stroke:#000000;stroke-linecap:square;stroke-linejoin:miter;stroke-width:0.8;\"/>\r\n   </g>\r\n   <g id=\"patch_5\">\r\n    <path d=\"M 26.925 226.740469 \r\nL 244.365 226.740469 \r\n\" style=\"fill:none;stroke:#000000;stroke-linecap:square;stroke-linejoin:miter;stroke-width:0.8;\"/>\r\n   </g>\r\n   <g id=\"patch_6\">\r\n    <path d=\"M 26.925 9.300469 \r\nL 244.365 9.300469 \r\n\" style=\"fill:none;stroke:#000000;stroke-linecap:square;stroke-linejoin:miter;stroke-width:0.8;\"/>\r\n   </g>\r\n  </g>\r\n </g>\r\n <defs>\r\n  <clipPath id=\"p252a9b02fc\">\r\n   <rect height=\"217.44\" width=\"217.44\" x=\"26.925\" y=\"9.300469\"/>\r\n  </clipPath>\r\n </defs>\r\n</svg>\r\n",
      "image/png": "[encoded data removed]"
     },
     "metadata": {
      "needs_background": "light"
     }
    }
   ],
   "source": [
    "### START CODE HERE ###\n",
    "img_path = 'C:\\Work\\Itau\\WorkShopDNN\\WorkShopDNN\\Deep learning\\Curso 4 - CNN\\Semana 2\\Tareas\\Keras Tutorial\\images\\\\asd.jpg'\n",
    "### END CODE HERE ###\n",
    "img = Image.open(img_path)\n",
    "size = 64, 64\n",
    "img.thumbnail(size, Image.ANTIALIAS)\n",
    "imshow(img)\n",
    "input('Lala')\n",
    "x = image.img_to_array(img)\n",
    "x = np.expand_dims(x, axis=0)\n",
    "x = preprocess_input(x)\n",
    "\n",
    "print(model.predict(x))"
   ]
  },
  {
   "cell_type": "markdown",
   "metadata": {},
   "source": [
    "## 5 - Other useful functions in Keras (Optional)\n",
    "\n",
    "Two other basic features of Keras that you'll find useful are:\n",
    "- `model.summary()`: prints the details of your layers in a table with the sizes of its inputs/outputs\n",
    "- `plot_model()`: plots your graph in a nice layout. You can even save it as \".png\" using SVG() if you'd like to share it on social media ;). It is saved in \"File\" then \"Open...\" in the upper bar of the notebook.\n",
    "\n",
    "Run the following code."
   ]
  },
  {
   "cell_type": "code",
   "execution_count": 36,
   "metadata": {
    "collapsed": true,
    "scrolled": false,
    "tags": []
   },
   "outputs": [
    {
     "output_type": "stream",
     "name": "stdout",
     "text": "Model: \"HappyModel\"\n_________________________________________________________________\nLayer (type)                 Output Shape              Param #   \n=================================================================\ninput_8 (InputLayer)         [(None, 64, 64, 3)]       0         \n_________________________________________________________________\nzero_padding2d_7 (ZeroPaddin (None, 70, 70, 3)         0         \n_________________________________________________________________\nconv0 (Conv2D)               (None, 64, 64, 32)        4736      \n_________________________________________________________________\nbn0 (BatchNormalization)     (None, 64, 64, 32)        128       \n_________________________________________________________________\nactivation_12 (Activation)   (None, 64, 64, 32)        0         \n_________________________________________________________________\nmax_pool0 (MaxPooling2D)     (None, 32, 32, 32)        0         \n_________________________________________________________________\nconv1 (Conv2D)               (None, 28, 28, 64)        51264     \n_________________________________________________________________\nbn1 (BatchNormalization)     (None, 28, 28, 64)        256       \n_________________________________________________________________\nactivation_13 (Activation)   (None, 28, 28, 64)        0         \n_________________________________________________________________\nmax_pool1 (MaxPooling2D)     (None, 14, 14, 64)        0         \n_________________________________________________________________\nflatten_7 (Flatten)          (None, 12544)             0         \n_________________________________________________________________\nfc (Dense)                   (None, 1)                 12545     \n=================================================================\nTotal params: 68,929\nTrainable params: 68,737\nNon-trainable params: 192\n_________________________________________________________________\n"
    }
   ],
   "source": [
    "model.summary()"
   ]
  },
  {
   "cell_type": "code",
   "execution_count": 62,
   "metadata": {
    "collapsed": true,
    "tags": []
   },
   "outputs": [
    {
     "output_type": "stream",
     "name": "stdout",
     "text": "Failed to import pydot. You must install pydot and graphviz for `pydotprint` to work.\nFailed to import pydot. You must install pydot and graphviz for `pydotprint` to work.\n"
    },
    {
     "output_type": "error",
     "ename": "AttributeError",
     "evalue": "'NoneType' object has no attribute 'create'",
     "traceback": [
      "\u001b[1;31m---------------------------------------------------------------------------\u001b[0m",
      "\u001b[1;31mAttributeError\u001b[0m                            Traceback (most recent call last)",
      "\u001b[1;32m<ipython-input-62-2e54d475720d>\u001b[0m in \u001b[0;36m<module>\u001b[1;34m\u001b[0m\n\u001b[0;32m      1\u001b[0m \u001b[0mplot_model\u001b[0m\u001b[1;33m(\u001b[0m\u001b[0mmodel\u001b[0m\u001b[1;33m,\u001b[0m \u001b[0mto_file\u001b[0m\u001b[1;33m=\u001b[0m\u001b[1;34m'HappyModel.png'\u001b[0m\u001b[1;33m)\u001b[0m\u001b[1;33m\u001b[0m\u001b[0m\n\u001b[1;32m----> 2\u001b[1;33m \u001b[0mSVG\u001b[0m\u001b[1;33m(\u001b[0m\u001b[0mmodel_to_dot\u001b[0m\u001b[1;33m(\u001b[0m\u001b[0mmodel\u001b[0m\u001b[1;33m)\u001b[0m\u001b[1;33m.\u001b[0m\u001b[0mcreate\u001b[0m\u001b[1;33m(\u001b[0m\u001b[0mprog\u001b[0m\u001b[1;33m=\u001b[0m\u001b[1;34m'dot'\u001b[0m\u001b[1;33m,\u001b[0m \u001b[0mformat\u001b[0m\u001b[1;33m=\u001b[0m\u001b[1;34m'svg'\u001b[0m\u001b[1;33m)\u001b[0m\u001b[1;33m)\u001b[0m\u001b[1;33m\u001b[0m\u001b[0m\n\u001b[0m",
      "\u001b[1;31mAttributeError\u001b[0m: 'NoneType' object has no attribute 'create'"
     ]
    }
   ],
   "source": [
    "plot_model(model, to_file='HappyModel.png')\n",
    "SVG(model_to_dot(model).create(prog='dot', format='svg'))"
   ]
  },
  {
   "cell_type": "code",
   "execution_count": null,
   "metadata": {},
   "outputs": [],
   "source": []
  }
 ],
 "metadata": {
  "kernelspec": {
   "display_name": "Python 3.6.5 64-bit",
   "language": "python",
   "name": "python36564bited6e31da5a054d69a88df11e71f884b9"
  },
  "language_info": {
   "codemirror_mode": {
    "name": "ipython",
    "version": 3
   },
   "file_extension": ".py",
   "mimetype": "text/x-python",
   "name": "python",
   "nbconvert_exporter": "python",
   "pygments_lexer": "ipython3",
   "version": "3.6.5-final"
  }
 },
 "nbformat": 4,
 "nbformat_minor": 2
}