{
 "cells": [
  {
   "cell_type": "markdown",
   "metadata": {},
   "source": [
    "# Primer Ejemplo con KERAS\n",
    "\n",
    "Cargamos el conjunto de datos MNIST y lo dividimos en conjuntos de entrenamiento y prueba, con X_train y X_test que contiene las imágenes de entrenamiento y prueba, y_train e y_test contiene el valor real de los dígitos representados en las imágenes. En el conjunto de datos MNIST, se usan 60.000 imágenes para entrenamiento y 10.000 para pruebas/validación.\n",
    "\n",
    "Primero importamos las librerias a utilizar:"
   ]
  },
  {
   "cell_type": "code",
   "execution_count": 53,
   "metadata": {},
   "outputs": [],
   "source": [
    "import numpy as np\n",
    "from keras.datasets import mnist\n",
    "import matplotlib.pyplot as plt\n",
    "from keras.models import Sequential\n",
    "from keras.layers import Dense, Conv2D, Flatten"
   ]
  },
  {
   "cell_type": "code",
   "execution_count": 50,
   "metadata": {},
   "outputs": [],
   "source": [
    "(X_train, y_train), (X_test, y_test) = mnist.load_data()"
   ]
  },
  {
   "cell_type": "markdown",
   "metadata": {},
   "source": [
    "Mostramos una de las imágenes con la función plt.imshow y comprobamos su tamaño con la función .shape para comprender cómo se vera el conjunto de datos. \n",
    "Como se ve, todas las imágenes MNIST tienen un tamaño uniforme de 28 x 28 píxeles y contienen dígitos escritos a mano."
   ]
  },
  {
   "cell_type": "code",
   "execution_count": 52,
   "metadata": {},
   "outputs": [
    {
     "data": {
      "text/plain": [
       "(28, 28)"
      ]
     },
     "execution_count": 52,
     "metadata": {},
     "output_type": "execute_result"
    },
    {
     "data": {
      "image/png": "[encoded data removed]",
      "text/plain": [
       "<Figure size 432x288 with 1 Axes>"
      ]
     },
     "metadata": {
      "needs_background": "light"
     },
     "output_type": "display_data"
    }
   ],
   "source": [
    "plt.imshow(X_train[10000])\n",
    "X_train[0].shape"
   ]
  },
  {
   "cell_type": "markdown",
   "metadata": {},
   "source": [
    "Cambiamos la forma de los dos conjuntos de imágenes X_train y X_test, según la forma esperada por el modelo CNN. \n",
    "La función reshape de Keras toma cuatro argumentos: \n",
    "    - Número de imágenes de entrenamiento.\n",
    "    - Tamaño de píxel (m,n) .\n",
    "    - Profundidad de imagen: usamos 1 para indicar una imagen en escala de grises."
   ]
  },
  {
   "cell_type": "code",
   "execution_count": 21,
   "metadata": {},
   "outputs": [],
   "source": [
    "X_train = X_train.reshape(60000,28,28,1)\n",
    "X_test = X_test.reshape(10000,28,28,1)"
   ]
  },
  {
   "cell_type": "markdown",
   "metadata": {},
   "source": [
    "A continuación, generamos un hot encoding de la variable de destino: creamos una columna para cada categoría de clasificación, donde cada columna contiene 0 o 1 que indican si la imagen actual pertenece o no a esa categoría. \n",
    "Debido a que estamos clasificando dígitos, habrá 10 columnas para los dígitos del 0 al 9, y de acuerdo con la decisión de clasificación, una de las columnas tendrá un 1 (por ejemplo, la columna para el dígito 3) y el resto será 0."
   ]
  },
  {
   "cell_type": "code",
   "execution_count": 22,
   "metadata": {},
   "outputs": [],
   "source": [
    "from keras.utils import to_categorical\n",
    "y_train = to_categorical(y_train)\n",
    "y_test = to_categorical(y_test)"
   ]
  },
  {
   "cell_type": "markdown",
   "metadata": {},
   "source": [
    "Creamos un modelo, utilizando la clase Sequential , que nos permite construir un modelo agregando una capa a la vez."
   ]
  },
  {
   "cell_type": "code",
   "execution_count": 54,
   "metadata": {},
   "outputs": [],
   "source": [
    "model = Sequential()"
   ]
  },
  {
   "cell_type": "markdown",
   "metadata": {},
   "source": [
    "Agregamos capas de modelo: las dos primeras capas son Conv2D que son capas convolucionales bidimensionales. Estas son capas de convolución que tratan con las imágenes de entrada, que se ven como matrices bidimensionales. La función Conv2D toma cuatro parámetros:\n",
    "\n",
    "    - Número de neuronas en cada capa. Usaremos 64 para la primera capa convolucional y 32 para la segunda.\n",
    "    - kernel_size: Define el tamaño del filtro: es el área en píxeles cuadrados que el modelo usará para \"escanear\" la imagen. El tamaño de kernel de 3 significa que el modelo utilizara un cuadrado de 3 × 3 píxeles a la vez.\n",
    "    - activación: Es el tipo de función de activación que usamos después de cada capa convolucional. Para CNN, la función de activación típica utilizada es ReLu.\n",
    "    - input_shape: Es el tamaño de píxel de las imágenes y la profundidad de la imagen, nuevamente configurando 1 para escala de grises."
   ]
  },
  {
   "cell_type": "code",
   "execution_count": 24,
   "metadata": {},
   "outputs": [],
   "source": [
    "model.add(Conv2D(64, kernel_size=3, activation='relu', input_shape=(28,28,1)))\n",
    "model.add(Conv2D(32, kernel_size=3, activation='relu'))"
   ]
  },
  {
   "cell_type": "markdown",
   "metadata": {},
   "source": [
    "Agregue una capa 'Flatten', que toma la salida de las dos capas de convolución y la convierte en un formato que puede ser utilizado por la capa neural final, totalmente conectada."
   ]
  },
  {
   "cell_type": "code",
   "execution_count": 25,
   "metadata": {},
   "outputs": [],
   "source": [
    "model.add(Flatten())"
   ]
  },
  {
   "cell_type": "markdown",
   "metadata": {},
   "source": [
    "Agregue la capa final de la red neuronal del tipo 'Dense', una capa neural totalmente conectada que generará la predicción final. La función Densa toma dos argumentos:\n",
    "\n",
    "    - Número de nodos de salida: 10 en nuestro caso porque necesitamos generar predicciones para dígitos entre 0-9.\n",
    "    - Tipo de función de activación para la capa de salida. Usamos softmax que es la función de activación típica utilizada para las capas de salida de la red neural. Softmax toma la salida de la capa densa y la convierte en probabilidades significativas para cada uno de los dígitos, que suman 1. "
   ]
  },
  {
   "cell_type": "code",
   "execution_count": 26,
   "metadata": {},
   "outputs": [],
   "source": [
    "model.add(Dense(10, activation='softmax'))"
   ]
  },
  {
   "cell_type": "markdown",
   "metadata": {},
   "source": [
    "Compilamos el modelo. La funcion 'Compile' toma tres parámetros:\n",
    "    - optimizer: Controla la tasa de aprendizaje, que define qué tan rápido se calculan los pesos óptimos para el modelo. Utilizaremos el optimizador de velocidad de aprendizaje llamado 'adam'.\n",
    "    - loss: Define la función de pérdida, que mide qué tan lejos está la predicción del modelo del valor real de los dígitos para las imágenes. Utilizaremos 'categorical_crossentropy', una función de pérdida adecuada para problemas de clasificación.\n",
    "    - metrics: Define cómo evaluamos el éxito del modelo. Utilizaremos la métrica de 'precisión' para calcular un puntaje de precisión en el conjunto de imágenes de prueba/validación."
   ]
  },
  {
   "cell_type": "code",
   "execution_count": 27,
   "metadata": {},
   "outputs": [],
   "source": [
    "model.compile(optimizer='adam', loss='categorical_crossentropy', metrics=['accuracy'])"
   ]
  },
  {
   "cell_type": "markdown",
   "metadata": {},
   "source": [
    "Entrenando el modelo, usando la función fit consta de cuatro parámetros:\n",
    "    - datos de entrenamiento (train_X)  \n",
    "    - datos de destino (train_y)\n",
    "    - datos de validación\n",
    "    - número de épocas (número de veces que se ejecutará el proceso de propagación hacia atrás en las imágenes de entrenamiento) lo configuraremos en 3."
   ]
  },
  {
   "cell_type": "code",
   "execution_count": 28,
   "metadata": {},
   "outputs": [
    {
     "name": "stdout",
     "output_type": "stream",
     "text": [
      "Train on 60000 samples, validate on 10000 samples\n",
      "Epoch 1/3\n",
      "60000/60000 [==============================] - 67s 1ms/step - loss: 0.2188 - accuracy: 0.9507 - val_loss: 0.1054 - val_accuracy: 0.9709\n",
      "Epoch 2/3\n",
      "60000/60000 [==============================] - 69s 1ms/step - loss: 0.0679 - accuracy: 0.9790 - val_loss: 0.0869 - val_accuracy: 0.9761\n",
      "Epoch 3/3\n",
      "60000/60000 [==============================] - 66s 1ms/step - loss: 0.0456 - accuracy: 0.9859 - val_loss: 0.1029 - val_accuracy: 0.9710\n"
     ]
    },
    {
     "data": {
      "text/plain": [
       "<keras.callbacks.callbacks.History at 0x17077260148>"
      ]
     },
     "execution_count": 28,
     "metadata": {},
     "output_type": "execute_result"
    }
   ],
   "source": [
    "model.fit(X_train, y_train, validation_data=(X_test, y_test), epochs=3)"
   ]
  },
  {
   "cell_type": "markdown",
   "metadata": {},
   "source": [
    "Como se puede ver arriba, después de tres épocas, la precisión en el conjunto de validación es de 97.61%. La CNN funciona bien.\n",
    "\n",
    "Ahora que el modelo está funcionando, podemos generar predicciones reales utilizando la función _PREDICT_. \n",
    "La función devuelve una matriz de probabilidades para cada uno de los 10 resultados posibles (dígitos entre 0-9), con la suma de probabilidades para cada imagen igual a 1. \n",
    "Podemos ingresar datos nuevos y desconocidos a la función de predicción para obtener la predicción de nuestro modelo. Por ahora, vamos a hacer una predicción para las primeras cuatro imágenes en el conjunto de prueba:"
   ]
  },
  {
   "cell_type": "code",
   "execution_count": 39,
   "metadata": {},
   "outputs": [],
   "source": [
    "def predictions_nums(predict):\n",
    "    for elem in predict:\n",
    "        print(np.where(elem == np.amax(elem))[0][0])\n",
    "        \n",
    "def comparate_prediction(predict, realValues):\n",
    "    for index in range(0, len(predict)):\n",
    "        print(f\"Model predict: {np.where(predict[index] == np.amax(predict[index]))[0][0]} - Real num: {np.where(realValues[index] == np.amax(realValues[index]))[0][0]}\")\n",
    "    "
   ]
  },
  {
   "cell_type": "code",
   "execution_count": 38,
   "metadata": {},
   "outputs": [
    {
     "name": "stdout",
     "output_type": "stream",
     "text": [
      "7\n",
      "2\n",
      "1\n",
      "0\n"
     ]
    }
   ],
   "source": [
    "predict = model.predict(X_test[:4])\n",
    "\n",
    "predictions_nums(predict)"
   ]
  },
  {
   "cell_type": "markdown",
   "metadata": {},
   "source": [
    "La salida mostrará probabilidades para los dígitos 0-9, para cada una de las 4 imágenes. El modelo predice 7, 2, 1 y 0 para las primeras cuatro imágenes.\n",
    "\n",
    "Comparamos esto con los resultados reales de las primeras 4 imágenes en el conjunto de prueba:"
   ]
  },
  {
   "cell_type": "code",
   "execution_count": 41,
   "metadata": {},
   "outputs": [
    {
     "name": "stdout",
     "output_type": "stream",
     "text": [
      "Model predict: 7 - Real num: 7\n",
      "Model predict: 2 - Real num: 2\n",
      "Model predict: 1 - Real num: 1\n",
      "Model predict: 0 - Real num: 0\n"
     ]
    }
   ],
   "source": [
    "comparate_prediction(predict, y_test[:4])"
   ]
  },
  {
   "cell_type": "markdown",
   "metadata": {},
   "source": [
    "La salida muestra que los valores reales para las primeras cuatro imágenes también es 7, 2,1 y 0, por lo tanto, el modelo hizo una predicción precisa."
   ]
  }
 ],
 "metadata": {
  "kernelspec": {
   "display_name": "Python 3",
   "language": "python",
   "name": "python3"
  },
  "language_info": {
   "codemirror_mode": {
    "name": "ipython",
    "version": 3
   },
   "file_extension": ".py",
   "mimetype": "text/x-python",
   "name": "python",
   "nbconvert_exporter": "python",
   "pygments_lexer": "ipython3",
   "version": "3.7.5"
  }
 },
 "nbformat": 4,
 "nbformat_minor": 4
}
