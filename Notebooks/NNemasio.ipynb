{
 "cells": [
  {
   "cell_type": "markdown",
   "metadata": {
    "deletable": false,
    "editable": false,
    "nbgrader": {
     "cell_type": "markdown",
     "checksum": "885a755e24baea4b82f200cfd0506a90",
     "grade": false,
     "grade_id": "cell-1f0c3ac723ecd39b",
     "locked": true,
     "schema_version": 3,
     "solution": false,
     "task": false
    }
   },
   "source": [
    "# Ejercicio 2 - Implementación de una red neuronal\n",
    "Vamos a implementar una red neuronal de $L$ capas, de forma genérica.\n",
    "\n",
    "Para ello, al igual que hicimos con la regresión logística, implementaremos los diferentes métodos necesarios para entrenar la red y luego los combinaremos en el gradient descent.\n",
    "\n",
    "Por último, analizaremos su efectividad clasificando un conjunto de puntos."
   ]
  },
  {
   "cell_type": "code",
   "execution_count": 76,
   "metadata": {
    "deletable": false,
    "editable": false,
    "nbgrader": {
     "cell_type": "code",
     "checksum": "3cd4119ab2d1f5fe07a70f948291a6a5",
     "grade": false,
     "grade_id": "cell-fecf68ced60fc30b",
     "locked": true,
     "schema_version": 3,
     "solution": false,
     "task": false
    }
   },
   "outputs": [],
   "source": [
    "# Importamos nuestras librerías\n",
    "import numpy as np\n",
    "import matplotlib.pyplot as plt\n",
    "import pickle\n",
    "from sklearn.datasets import make_moons"
   ]
  },
  {
   "cell_type": "markdown",
   "metadata": {
    "deletable": false,
    "editable": false,
    "nbgrader": {
     "cell_type": "markdown",
     "checksum": "3cf0d2efac0966a0f8c397454897f999",
     "grade": false,
     "grade_id": "cell-19dff6a8a591bf2a",
     "locked": true,
     "schema_version": 3,
     "solution": false,
     "task": false
    }
   },
   "source": [
    "**Ejercicio 1**\n",
    "\n",
    "Comenzaremos por realizar la inicalización de nuestros parámetros W y b para cada una de las capas. Para ello, vamos a usar un diccionario de parametros colocando dentro las matrices y vectores desde la capa $1$ hasta la $L$.\n",
    "\n",
    "Recordar que la inicialización de $W$ debe ser aleatoria (np.random.randn) y la de $b$ puede ser con ceros (np.zero). Cada una de las matrices $W$ tiene tamaño $(n_i \\times n_{i-1})$ y $b$ tiene tamaño $(n_i \\times 1)$"
   ]
  },
  {
   "cell_type": "code",
   "execution_count": 77,
   "metadata": {
    "deletable": false,
    "nbgrader": {
     "cell_type": "code",
     "checksum": "4934645563f996d088d02535d186c497",
     "grade": false,
     "grade_id": "cell-08b3c4aeaca4a494",
     "locked": false,
     "schema_version": 3,
     "solution": true,
     "task": false
    }
   },
   "outputs": [],
   "source": [
    "def initialize_parameters(layer_neurons):\n",
    "    L = len(layer_neurons)\n",
    "    params = {}\n",
    "    \n",
    "    for i in range(1, L):\n",
    "        params[f\"W{i}\"] = np.random.randn(layer_neurons[i], layer_neurons[i-1])\n",
    "        params[f\"b{i}\"] = np.zeros((layer_neurons[i],1), dtype=int) \n",
    "    return params"
   ]
  },
  {
   "cell_type": "code",
   "execution_count": 78,
   "metadata": {
    "deletable": false,
    "editable": false,
    "nbgrader": {
     "cell_type": "code",
     "checksum": "948d26205eb43509481f585b280936c9",
     "grade": true,
     "grade_id": "cell-bddfa89b91ec0822",
     "locked": true,
     "points": 5,
     "schema_version": 3,
     "solution": false,
     "task": false
    }
   },
   "outputs": [],
   "source": [
    "np.random.seed(1)\n",
    "\n",
    "layer_neurons = [2, 3, 2, 1]\n",
    "\n",
    "parameters = initialize_parameters(layer_neurons)\n",
    "\n",
    "W1 = np.array([[1.62434536, -0.61175641], [-0.52817175, -1.07296862], [0.86540763, -2.3015387]])\n",
    "b1 = np.array([[0], [0], [0]])\n",
    "W2 = np.array([[1.74481176, -0.7612069, 0.3190391], [-0.24937038, 1.46210794, -2.06014071]])\n",
    "b2 = np.array([[0], [0]])\n",
    "W3 = np.array([[-0.3224172, -0.38405435]])\n",
    "b3 = np.array([[0]])\n",
    "\n",
    "assert(len(parameters) == 6)\n",
    "assert(np.isclose(W1, parameters[\"W1\"]).all())\n",
    "assert(np.isclose(b1, parameters[\"b1\"]).all())\n",
    "assert(np.isclose(W2, parameters[\"W2\"]).all())\n",
    "assert(np.isclose(b2, parameters[\"b2\"]).all())\n",
    "assert(np.isclose(W3, parameters[\"W3\"]).all())\n",
    "assert(np.isclose(b3, parameters[\"b3\"]).all())\n"
   ]
  },
  {
   "cell_type": "markdown",
   "metadata": {
    "deletable": false,
    "editable": false,
    "nbgrader": {
     "cell_type": "markdown",
     "checksum": "7ac7f507e28a685821a4a8bff6f4e727",
     "grade": false,
     "grade_id": "cell-ec3447d1e0091cdc",
     "locked": true,
     "schema_version": 3,
     "solution": false,
     "task": false
    }
   },
   "source": [
    "**Ejercicio 2**\n",
    "\n",
    "Implementaremos algunas funciones auxiliares y el forward propagation de nuestra red. Recordar que:\n",
    "\n",
    "$\\sigma (X) = \\frac{1}{1 + e^{-X}}$\n",
    "\n",
    "$\\sigma' (X) = \\sigma(X) (1 - \\sigma(X))$\n",
    "\n",
    "$J(W, b) = - \\frac{1}{m} \\times \\sum \\limits _{i = 1}^{m} \\Big ( y^{(i)}ln\\hat y^{(i)} + (1 - y^{(i)})ln(1 - \\hat y^{(i)}) \\Big )$\n",
    "\n",
    "$\\frac{\\partial J}{\\partial A^{[L]}} = - \\frac{y}{\\hat y} + \\frac{1-y}{1-\\hat y}$"
   ]
  },
  {
   "cell_type": "code",
   "execution_count": 79,
   "metadata": {
    "deletable": false,
    "nbgrader": {
     "cell_type": "code",
     "checksum": "42272b41fa3902dc529f2b7eb149033f",
     "grade": false,
     "grade_id": "cell-3b597243374d0ee5",
     "locked": false,
     "schema_version": 3,
     "solution": true,
     "task": false
    }
   },
   "outputs": [],
   "source": [
    "def sigmoid(X):\n",
    "    return 1/(1+np.exp(-X))\n",
    "    \n",
    "def calculate_cost(Y, Yhat):\n",
    "    m = Y.shape[1]\n",
    "    return (-1/m) * np.sum(Y @ np.log(Yhat).T + (1 - Y) @ np.log(1 - Yhat).T)\n",
    "    \n",
    "def sigmoid_derivative(X):\n",
    "    s = sigmoid(X)\n",
    "    return np.multiply(s, (1-s))    \n",
    "    \n",
    "def cost_derivative(Y, Yhat):\n",
    "    return (-Y/Yhat)+((1-Y)/(1-Yhat))"
   ]
  },
  {
   "cell_type": "markdown",
   "metadata": {
    "deletable": false,
    "editable": false,
    "nbgrader": {
     "cell_type": "markdown",
     "checksum": "11b7613d83813ea28710c294a3f1176f",
     "grade": false,
     "grade_id": "cell-c6147f6082238fa2",
     "locked": true,
     "schema_version": 3,
     "solution": false,
     "task": false
    }
   },
   "source": [
    "**Ejercicio 3**\n",
    "\n",
    "Ahora, implementaremos forward propagation en toda nuestra red. Recordar que:\n",
    "\n",
    "$Z^{[k+1]} = W \\times A^{[k]} + b$\n",
    "\n",
    "$A^{[k+1]} = \\sigma (Z^{[k+1]})$\n",
    "\n",
    "$A^{[0]} = X, A^{[L]} = \\hat Y$"
   ]
  },
  {
   "cell_type": "code",
   "execution_count": 80,
   "metadata": {
    "deletable": false,
    "nbgrader": {
     "cell_type": "code",
     "checksum": "8b630663dcef23ce4790244b8f4c9db1",
     "grade": false,
     "grade_id": "cell-9478b0cb9b2570c0",
     "locked": false,
     "schema_version": 3,
     "solution": true,
     "task": false
    }
   },
   "outputs": [],
   "source": [
    "def forward_propagate(A, W, b):\n",
    "    Z_next = W @ A + b\n",
    "    A_next = sigmoid(Z_next)\n",
    "            \n",
    "    return Z_next, A_next\n",
    "\n",
    "def forward_propagate_all(X, params, layer_neurons):\n",
    "    L = len(layer_neurons)\n",
    "    intermediate_res = {}\n",
    "    \n",
    "    A = X\n",
    "    intermediate_res[\"A0\"] = X\n",
    "    \n",
    "    for i in range(1, L):\n",
    "        Z, A = forward_propagate(A,params[f\"W{i}\"],params[f\"b{i}\"])\n",
    "        \n",
    "        intermediate_res[f\"Z{i}\"] = Z\n",
    "        intermediate_res[f\"A{i}\"] = A\n",
    "        \n",
    "    return A, intermediate_res"
   ]
  },
  {
   "cell_type": "markdown",
   "metadata": {
    "deletable": false,
    "editable": false,
    "nbgrader": {
     "cell_type": "markdown",
     "checksum": "0707c655fcc2c4d1d9b3d99bfa7ef545",
     "grade": false,
     "grade_id": "cell-178957670d212d91",
     "locked": true,
     "schema_version": 3,
     "solution": false,
     "task": false
    }
   },
   "source": [
    "**Ejercicio 4**\n",
    "\n",
    "Ahora implementaremos backpropagation para nuestra red genérica. Recordar que:\n",
    "\n",
    "$dA^{[k]} = W^{[k+1]T} \\times dZ^{[k+1]}$\n",
    "\n",
    "$dZ^{[k]} = dA^{[k]} * \\sigma' (Z^{[k]})$\n",
    "\n",
    "$dW^{[k]} = \\frac{1}{m}dZ^{[k]} \\times A^{[k-1]T}$\n",
    "\n",
    "$db^{[k]} = \\frac{1}{m}\\sum \\limits _{i=1}^{m} dZ^{[k](i)}$"
   ]
  },
  {
   "cell_type": "code",
   "execution_count": 81,
   "metadata": {
    "deletable": false,
    "nbgrader": {
     "cell_type": "code",
     "checksum": "bf8ea005244e9eb3b27ba72ce2b23d4c",
     "grade": false,
     "grade_id": "cell-6a52be9e40aef97a",
     "locked": false,
     "schema_version": 3,
     "solution": true,
     "task": false
    }
   },
   "outputs": [],
   "source": [
    "def backward_propagate(dA, Z, W, A_prev):\n",
    "    m = Z.shape[1]\n",
    "    \n",
    "    dZ = np.multiply(dA, sigmoid_derivative(Z))\n",
    "    dW = ((1/m) * dZ) @ A_prev.T\n",
    "    db = (1/m) * np.reshape(np.sum(dZ,axis=1), (-1, 1))\n",
    "    dA_prev = W.T @ dZ\n",
    "    \n",
    "    return dA_prev, dW, db\n",
    "\n",
    "def backward_propagate_all(Y, Yhat, params, intermediate_res, layer_neurons):\n",
    "    L = len(layer_neurons)\n",
    "    \n",
    "    dA = cost_derivative(Y, Yhat)\n",
    "    \n",
    "    for i in range(L - 1, 0, -1):\n",
    "        dA, dW, db = backward_propagate(dA, intermediate_res[f\"Z{i}\"], params[f\"W{i}\"], intermediate_res[f\"A{i - 1}\"])\n",
    "                \n",
    "        params[f\"dA{i}\"] = dA\n",
    "        params[f\"dW{i}\"] = dW\n",
    "        params[f\"db{i}\"] = db"
   ]
  },
  {
   "cell_type": "markdown",
   "metadata": {
    "deletable": false,
    "editable": false,
    "nbgrader": {
     "cell_type": "markdown",
     "checksum": "314ca819d8e05847c8c2518359a43578",
     "grade": false,
     "grade_id": "cell-edc5fe9f4da81bae",
     "locked": true,
     "schema_version": 3,
     "solution": false,
     "task": false
    }
   },
   "source": [
    "**Ejercicio 5**\n",
    "\n",
    "Por último, implementaremos nuestro método update_parameters para actualizar todos los parámetros de la red:"
   ]
  },
  {
   "cell_type": "code",
   "execution_count": 82,
   "metadata": {
    "deletable": false,
    "nbgrader": {
     "cell_type": "code",
     "checksum": "ac4dd73d829c91b51a4685f07ab455c1",
     "grade": false,
     "grade_id": "cell-74411a5b262b313f",
     "locked": false,
     "schema_version": 3,
     "solution": true,
     "task": false
    }
   },
   "outputs": [],
   "source": [
    "def update_parameters(params, layer_neurons, learning_rate):\n",
    "    L = len(layer_neurons)\n",
    "    \n",
    "    for i in range(1, L):\n",
    "        params[f\"W{i}\"] = params[f\"W{i}\"] - (learning_rate * params[f\"dW{i}\"])\n",
    "        params[f\"b{i}\"] = params[f\"b{i}\"] - (learning_rate * params[f\"db{i}\"])"
   ]
  },
  {
   "cell_type": "markdown",
   "metadata": {
    "deletable": false,
    "editable": false,
    "nbgrader": {
     "cell_type": "markdown",
     "checksum": "87d5edff862277a864b2bede278cacba",
     "grade": false,
     "grade_id": "cell-7a268bd2cb2b5ab5",
     "locked": true,
     "schema_version": 3,
     "solution": false,
     "task": false
    }
   },
   "source": [
    "**¡Felicitaciones, implementaste tu primera red neuronal genérica!**\n",
    "\n",
    "Ahora uniremos todo en gradient_descent y probaremos nuestra red."
   ]
  },
  {
   "cell_type": "code",
   "execution_count": 83,
   "metadata": {
    "deletable": false,
    "editable": false,
    "nbgrader": {
     "cell_type": "code",
     "checksum": "7b016cc6bff68dcff17399fec5fdf048",
     "grade": false,
     "grade_id": "cell-3184c5267d1ab029",
     "locked": true,
     "schema_version": 3,
     "solution": false,
     "task": false
    }
   },
   "outputs": [],
   "source": [
    "def gradient_descent(X, Y, learning_rate = 0.01, iterations = 1000, layer_hidden_neurons = [100, 50]):\n",
    "    layer_neurons = [X.shape[0]] + layer_hidden_neurons + [Y.shape[0]]\n",
    "    params = initialize_parameters(layer_neurons)\n",
    "    \n",
    "    for i in range(iterations):\n",
    "        A, intermediate_res = forward_propagate_all(X, params, layer_neurons)\n",
    "        \n",
    "        if i % 200 == 0:\n",
    "            print(calculate_cost(Y, A))\n",
    "            \n",
    "        backward_propagate_all(Y, A, params, intermediate_res, layer_neurons)\n",
    "        \n",
    "        update_parameters(params, layer_neurons, learning_rate)\n",
    "        \n",
    "    return params, intermediate_res"
   ]
  },
  {
   "cell_type": "code",
   "execution_count": 84,
   "metadata": {
    "deletable": false,
    "editable": false,
    "nbgrader": {
     "cell_type": "code",
     "checksum": "44266363b4d42954250782670e355fb1",
     "grade": true,
     "grade_id": "cell-8aaa7ed261f67efd",
     "locked": true,
     "points": 30,
     "schema_version": 3,
     "solution": false,
     "task": false
    }
   },
   "outputs": [
    {
     "name": "stdout",
     "output_type": "stream",
     "text": [
      "0.6689338746216831\n",
      "0.658560502696018\n",
      "0.6547179812565781\n",
      "0.6517422652240885\n",
      "0.6490407473819515\n"
     ]
    }
   ],
   "source": [
    "np.random.seed(1)\n",
    "\n",
    "X = np.array([[1, 2, 3], [0.1, 0.3, 0.5], [10, 3, 4]])\n",
    "Y = np.array([[1, 0, 1]])\n",
    "\n",
    "params, intermediate_res = gradient_descent(X, Y, layer_hidden_neurons = [2, 3])\n",
    "\n",
    "params_expected, intermediate_res_expected = pickle.load(open(\"parametros.p\", 'rb'))\n",
    "\n",
    "for key in params_expected:\n",
    "    assert(np.isclose(params_expected[key], params[key]).all())\n",
    "for key in intermediate_res_expected:\n",
    "    assert(np.isclose(intermediate_res_expected[key], intermediate_res[key]).all())\n",
    "    "
   ]
  },
  {
   "cell_type": "code",
   "execution_count": 85,
   "metadata": {
    "deletable": false,
    "editable": false,
    "nbgrader": {
     "cell_type": "code",
     "checksum": "569be32ddbe59912b2311d60b9af089c",
     "grade": false,
     "grade_id": "cell-01291dc5c882d150",
     "locked": true,
     "schema_version": 3,
     "solution": false,
     "task": false
    }
   },
   "outputs": [],
   "source": [
    "def calculate_score(Y, Yhat):\n",
    "    # Calcula el score de nuestra predicción\n",
    "    m = Yhat.shape[1]\n",
    "    return np.squeeze(np.sum(Y == (Yhat > 0.5), axis = 1) / m)"
   ]
  },
  {
   "cell_type": "code",
   "execution_count": 86,
   "metadata": {
    "deletable": false,
    "editable": false,
    "nbgrader": {
     "cell_type": "code",
     "checksum": "46cd3cad4ce2028b045958de8604736d",
     "grade": false,
     "grade_id": "cell-5688ec32f4279c9b",
     "locked": true,
     "schema_version": 3,
     "solution": false,
     "task": false
    }
   },
   "outputs": [
    {
     "name": "stdout",
     "output_type": "stream",
     "text": [
      "1.928866866357\n",
      "0.2555227526130046\n",
      "0.15853737477045118\n",
      "0.10235358612921758\n",
      "0.07041537840287912\n",
      "0.05128272456459377\n",
      "0.039083140836057406\n",
      "0.03092365627510585\n",
      "0.02528574538297105\n",
      "0.021237429600294545\n",
      "Score: 1.0\n"
     ]
    },
    {
     "data": {
      "text/plain": [
       "<matplotlib.collections.PathCollection at 0x7f1572f77d68>"
      ]
     },
     "execution_count": 86,
     "metadata": {},
     "output_type": "execute_result"
    },
    {
     "data": {
      "image/png": "[encoded data removed]",
      "text/plain": [
       "<Figure size 576x576 with 1 Axes>"
      ]
     },
     "metadata": {
      "needs_background": "light"
     },
     "output_type": "display_data"
    }
   ],
   "source": [
    "X1, Y1, = make_moons(noise = 0.1)\n",
    "\n",
    "hidden_neurons = [100, 100, 10]\n",
    "\n",
    "params, intermediate_res = gradient_descent(X1.T, Y1.reshape(1, -1), learning_rate = 0.1, iterations = 2000, layer_hidden_neurons = hidden_neurons)\n",
    "\n",
    "A1, _ = forward_propagate_all(X1.T, params, [2] + hidden_neurons + [1])\n",
    "\n",
    "print(f\"Score: {calculate_score(Y1.reshape(1, -1), A1)}\")\n",
    "\n",
    "h = .02\n",
    "x_min, x_max = X1[:, 0].min() - .1, X1[:, 0].max() + .1\n",
    "y_min, y_max = X1[:, 1].min() - .1, X1[:, 1].max() + .1\n",
    "xx, yy = np.meshgrid(np.arange(x_min, x_max, h),\n",
    "                     np.arange(y_min, y_max, h))\n",
    "\n",
    "A, _ = forward_propagate_all(np.c_[xx.ravel(), yy.ravel()].T, params, [2] + hidden_neurons + [1])\n",
    "\n",
    "plt.figure(figsize=(8,8))\n",
    "Yhat = np.array(A > 0.5, dtype = int)\n",
    "Yhat = Yhat.reshape(xx.shape)\n",
    "\n",
    "plt.contourf(xx, yy, Yhat, cmap=plt.cm.Paired, alpha=0.3)\n",
    "plt.scatter(X1[:, 0], X1[:, 1], c=Y1, cmap=plt.cm.Paired)"
   ]
  },
  {
   "cell_type": "code",
   "execution_count": null,
   "metadata": {},
   "outputs": [],
   "source": []
  }
 ],
 "metadata": {
  "kernelspec": {
   "display_name": "Python 3",
   "language": "python",
   "name": "python3"
  },
  "language_info": {
   "codemirror_mode": {
    "name": "ipython",
    "version": 3
   },
   "file_extension": ".py",
   "mimetype": "text/x-python",
   "name": "python",
   "nbconvert_exporter": "python",
   "pygments_lexer": "ipython3",
   "version": "3.7.5"
  }
 },
 "nbformat": 4,
 "nbformat_minor": 4
}
