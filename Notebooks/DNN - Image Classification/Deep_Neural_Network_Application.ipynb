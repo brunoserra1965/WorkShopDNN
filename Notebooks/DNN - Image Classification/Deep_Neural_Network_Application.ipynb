{
 "cells": [
  {
   "cell_type": "markdown",
   "metadata": {},
   "source": [
    "# Deep Neural Network for Image Classification: Application"
   ]
  },
  {
   "cell_type": "markdown",
   "metadata": {},
   "source": [
    "## 1 - Packages"
   ]
  },
  {
   "cell_type": "markdown",
   "metadata": {},
   "source": [
    "Lo primero que haremos sera la importación de los paquetes. \n",
    "- [numpy](https://www.numpy.org/).\n",
    "- [matplotlib](http://matplotlib.org) es una bilbioteca para dibujar graficas en Python.\n",
    "- NNUrudateana provee la implementación de una red neuronal de L capas."
   ]
  },
  {
   "cell_type": "code",
   "execution_count": null,
   "metadata": {
    "collapsed": true,
    "tags": []
   },
   "outputs": [],
   "source": [
    "import time\n",
    "import numpy as np\n",
    "import h5py\n",
    "import matplotlib.pyplot as plt\n",
    "import scipy\n",
    "from PIL import Image\n",
    "from scipy import ndimage\n",
    "from NNUrudateana import *\n",
    "\n",
    "%matplotlib inline\n",
    "plt.rcParams['figure.figsize'] = (7.0, 6.0)\n",
    "plt.rcParams['image.interpolation'] = 'nearest'\n",
    "plt.rcParams['image.cmap'] = 'gray'\n",
    "\n",
    "%load_ext autoreload\n",
    "%autoreload 2\n",
    "\n",
    "np.random.seed(1)"
   ]
  },
  {
   "cell_type": "markdown",
   "metadata": {},
   "source": [
    "## 2 - Dataset\n",
    "\n",
    "Usaremos el dataset de \"Cat vs non-Cat\"."
   ]
  },
  {
   "cell_type": "code",
   "execution_count": null,
   "metadata": {
    "collapsed": true
   },
   "outputs": [],
   "source": [
    "train_x_orig, train_y, test_x_orig, test_y, classes = load_data()"
   ]
  },
  {
   "cell_type": "markdown",
   "metadata": {},
   "source": [
    "El siguiente código muestra una imagen del dataset. Podemos cambiar el indice las veces que queramos para ver las distintas imagenes."
   ]
  },
  {
   "cell_type": "code",
   "execution_count": null,
   "metadata": {
    "collapsed": true,
    "tags": []
   },
   "outputs": [],
   "source": [
    "index = 13\n",
    "plt.imshow(train_x_orig[index])\n",
    "if train_y[0,index] == 1:\n",
    "    print (\"y = \" + str(train_y[0,index]) + \". Es la imagen de un gato.\")\n",
    "else:\n",
    "    print (\"y = \" + str(train_y[0,index]) + \". NO es la imagen de un gato.\")"
   ]
  },
  {
   "cell_type": "code",
   "execution_count": null,
   "metadata": {
    "collapsed": true,
    "tags": []
   },
   "outputs": [],
   "source": [
    "m_train = train_x_orig.shape[0]\n",
    "num_px = train_x_orig.shape[1]\n",
    "m_test = test_x_orig.shape[0]\n",
    "\n",
    "print (\"Number of training examples: \" + str(m_train))\n",
    "print (\"Number of testing examples: \" + str(m_test))\n",
    "print (\"Each image is of size: (\" + str(num_px) + \", \" + str(num_px) + \", 3)\")\n",
    "print (\"train_x_orig shape: \" + str(train_x_orig.shape))\n",
    "print (\"train_y shape: \" + str(train_y.shape))\n",
    "print (\"test_x_orig shape: \" + str(test_x_orig.shape))\n",
    "print (\"test_y shape: \" + str(test_y.shape))"
   ]
  },
  {
   "cell_type": "markdown",
   "metadata": {},
   "source": [
    "Normalmente lo que se hace cuando utilizamos un DNN totalmente conectada para este tipo de problemas, es transformar los datos de entrada en un vector unidimiensional y estandarizar los valores de cada pixel (dividiendolo entre 255 al ser RGB), en la imagen se ve claramente un ejemplo: \n",
    "\n",
    "<img src=\"images/imvectorkiank.png\" style=\"width:450px;height:300px;\">\n",
    "\n",
    "<caption><center> <u>Figure 1</u>: Image to vector conversion. <br> </center></caption>"
   ]
  },
  {
   "cell_type": "code",
   "execution_count": null,
   "metadata": {
    "collapsed": true,
    "tags": []
   },
   "outputs": [],
   "source": [
    "# Redimensionamos los conjuntos\n",
    "train_x_flatten = train_x_orig.reshape(train_x_orig.shape[0], -1).T   # El \"-1\" indica que se desea aplanar la curva! \n",
    "test_x_flatten = test_x_orig.reshape(test_x_orig.shape[0], -1).T\n",
    "\n",
    "# Estandarizamos los valores de las features entre 0 y 1.\n",
    "train_x = train_x_flatten/255.\n",
    "test_x = test_x_flatten/255.\n",
    "\n",
    "print (\"train_x's shape: \" + str(train_x.shape))\n",
    "print (\"test_x's shape: \" + str(test_x.shape))"
   ]
  },
  {
   "cell_type": "markdown",
   "metadata": {},
   "source": [
    "$12,288$ = $64 \\times 64 \\times 3$ este es el tamañano de un vector transformado."
   ]
  },
  {
   "cell_type": "markdown",
   "metadata": {},
   "source": [
    "## 3 - Architecture of your model"
   ]
  },
  {
   "cell_type": "markdown",
   "metadata": {},
   "source": [
    "Ahora que estamos un poco familiarizados con el dataset vamos a utilizar la red neuronal de L capaz implementada en el Pre-Workshop de Nacho para entrenar nuestro modelo y ver su resultado.\n",
    "\n",
    "### 3.2 - L-layer deep neural network\n",
    "\n",
    "Aqui mostramos una imagen que muestra la representacion de un DNN para este ejemplo:\n",
    "\n",
    "<img src=\"images/LlayerNN_kiank.png\" style=\"width:650px;height:400px;\">\n",
    "<caption><center> <u>Figure 3</u>: L-layer neural network. <br> The model can be summarized as: ***[LINEAR -> RELU] $\\times$ (L-1) -> LINEAR -> SIGMOID***</center></caption>\n",
    "\n",
    "<u>Detalles de la figura 3</u>:\n",
    "- La entrada es un vector de (64,64,3) que representa una imagen aplanada en un vector de tamaño (12288,1).\n",
    "- El correspondiente vector: $[x_0,x_1,...,x_{12287}]^T$ es multiplicado por la matriz de pesos $W^{[1]}$, mas el vector de bias $b^{[1]}$. Al resultado se le llama linear unit.\n",
    "- Aplicamos la función `relu` a la linear unit. Este proceso se repite para todos los $(W^{[l]}, b^{[l]})$.\n",
    "- Finalmente, aplicamos la función `sigmoid`. Si este valor es mayor a 0.5, clasificamos la imagen como un gato.\n"
   ]
  },
  {
   "cell_type": "markdown",
   "metadata": {},
   "source": [
    "## 5 - L-layer Neural Network\n",
    "\n",
    "Utilizamos la clase DeepNeuralNetwork implementada en un archivo .py para entrenar nuestro modelo."
   ]
  },
  {
   "cell_type": "code",
   "execution_count": null,
   "metadata": {},
   "outputs": [],
   "source": [
    "### CONSTANTS ###\n",
    "layers_dims_2_layer_network = [7] #  2-layer model"
   ]
  },
  {
   "cell_type": "code",
   "execution_count": null,
   "metadata": {
    "tags": []
   },
   "outputs": [],
   "source": [
    "deep_neural_network_2_layer = DeepNeuralNetwork()\n",
    "deep_neural_network_2_layer.fit(train_x, train_y, learning_rate = 0.0075, num_iterations = 2500, layer_hidden_neurons = layers_dims_2_layer_network,  activation = \"relu\")"
   ]
  },
  {
   "cell_type": "code",
   "execution_count": null,
   "metadata": {
    "tags": []
   },
   "outputs": [],
   "source": [
    "pred_train_2_layers = deep_neural_network_2_layer.predict(train_x, train_y, activation=\"relu\")"
   ]
  },
  {
   "cell_type": "code",
   "execution_count": null,
   "metadata": {
    "tags": []
   },
   "outputs": [],
   "source": [
    "pred_test_2_layers = deep_neural_network_2_layer.predict(test_x, test_y, activation=\"relu\")"
   ]
  },
  {
   "cell_type": "code",
   "execution_count": null,
   "metadata": {
    "tags": []
   },
   "outputs": [],
   "source": [
    "print(f\"Tamaño de conjunto de test: {test_x.shape[1]}\\n\")\n",
    "deep_neural_network_2_layer.print_mislabeled_images(classes, test_x, test_y, pred_test_2_layers)"
   ]
  },
  {
   "cell_type": "code",
   "execution_count": null,
   "metadata": {
    "collapsed": true
   },
   "outputs": [],
   "source": [
    "### CONSTANTS ###\n",
    "layers_dims = [20, 7, 5] #  4-layer model"
   ]
  },
  {
   "cell_type": "code",
   "execution_count": null,
   "metadata": {
    "collapsed": true,
    "tags": []
   },
   "outputs": [],
   "source": [
    "deep_neural_network = DeepNeuralNetwork()\n",
    "deep_neural_network.fit(train_x, train_y, learning_rate = 0.0075, num_iterations = 2500, layer_hidden_neurons = layers_dims, activation=\"relu\")"
   ]
  },
  {
   "cell_type": "code",
   "execution_count": null,
   "metadata": {
    "collapsed": true,
    "scrolled": true,
    "tags": []
   },
   "outputs": [],
   "source": [
    "pred_train = deep_neural_network.predict(train_x, train_y, activation=\"relu\")"
   ]
  },
  {
   "cell_type": "markdown",
   "metadata": {},
   "source": [
    "<table>\n",
    "    <tr>\n",
    "    <td>\n",
    "    **Train Accuracy**\n",
    "    </td>\n",
    "    <td>\n",
    "    0.985645933014\n",
    "    </td>\n",
    "    </tr>\n",
    "</table>"
   ]
  },
  {
   "cell_type": "code",
   "execution_count": null,
   "metadata": {
    "collapsed": true,
    "tags": []
   },
   "outputs": [],
   "source": [
    "pred_test = deep_neural_network.predict(test_x, test_y, activation=\"relu\")"
   ]
  },
  {
   "cell_type": "markdown",
   "metadata": {},
   "source": [
    "**Expected Output**:\n",
    "\n",
    "<table> \n",
    "    <tr>\n",
    "        <td> **Test Accuracy**</td>\n",
    "        <td> 0.8 </td>\n",
    "    </tr>\n",
    "</table>"
   ]
  },
  {
   "cell_type": "markdown",
   "metadata": {},
   "source": [
    "## Resultados"
   ]
  },
  {
   "cell_type": "code",
   "execution_count": null,
   "metadata": {
    "tags": []
   },
   "outputs": [],
   "source": [
    "print(f\"Tamaño de conjunto de test: {test_x.shape[1]}\\n\")\n",
    "deep_neural_network_2_layer.print_mislabeled_images(classes, test_x, test_y, pred_test_2_layers)"
   ]
  },
  {
   "cell_type": "code",
   "execution_count": null,
   "metadata": {},
   "outputs": [],
   "source": [
    "deep_neural_network.print_mislabeled_images(classes, test_x, test_y, pred_test)"
   ]
  },
  {
   "cell_type": "markdown",
   "metadata": {},
   "source": [
    "## Prueba con conjunto que se asemeja mas a un caso real"
   ]
  },
  {
   "cell_type": "code",
   "execution_count": null,
   "metadata": {},
   "outputs": [],
   "source": [
    "train_x_orig, train_y, test_x_orig, test_y = load_data_real()"
   ]
  },
  {
   "cell_type": "code",
   "execution_count": null,
   "metadata": {
    "tags": []
   },
   "outputs": [],
   "source": [
    "index = 15000\n",
    "plt.imshow(train_x_orig[index])\n",
    "if train_y[0,index] == 1:\n",
    "    print (\"y = \" + str(train_y[0,index]) + \". Es la imagen de un gato.\")\n",
    "else:\n",
    "    print (\"y = \" + str(train_y[0,index]) + \". NO es la imagen de un gato.\")"
   ]
  },
  {
   "cell_type": "code",
   "execution_count": null,
   "metadata": {
    "tags": []
   },
   "outputs": [],
   "source": [
    "m_train = train_x_orig.shape[0]\n",
    "num_px = train_x_orig.shape[1]\n",
    "m_test = test_x_orig.shape[0]\n",
    "\n",
    "print (\"Number of training examples: \" + str(m_train))\n",
    "print (\"Number of testing examples: \" + str(m_test))\n",
    "print (\"Each image is of size: (\" + str(num_px) + \", \" + str(num_px) + \", 3)\")\n",
    "print (\"train_x_orig shape: \" + str(train_x_orig.shape))\n",
    "print (\"train_y shape: \" + str(train_y.shape))\n",
    "print (\"test_x_orig shape: \" + str(test_x_orig.shape))\n",
    "print (\"test_y shape: \" + str(test_y.shape))"
   ]
  },
  {
   "cell_type": "code",
   "execution_count": null,
   "metadata": {
    "tags": []
   },
   "outputs": [],
   "source": [
    "# Redimensionamos los conjuntos\n",
    "train_x_flatten = train_x_orig.reshape(train_x_orig.shape[0], -1).T   # El \"-1\" indica que se desea aplanar la curva! \n",
    "test_x_flatten = test_x_orig.reshape(test_x_orig.shape[0], -1).T\n",
    "\n",
    "# Estandarizamos los valores de las features entre 0 y 1.\n",
    "train_x = train_x_flatten/255.\n",
    "test_x = test_x_flatten/255.\n",
    "\n",
    "print (\"train_x's shape: \" + str(train_x.shape))\n",
    "print (\"test_x's shape: \" + str(test_x.shape))"
   ]
  },
  {
   "cell_type": "code",
   "execution_count": null,
   "metadata": {},
   "outputs": [],
   "source": [
    "### CONSTANTS ###\n",
    "layers_dims_2_layer_network = [7] #  2-layer model\n",
    "deep_neural_network_2_layer = DeepNeuralNetwork()\n",
    "deep_neural_network_2_layer.fit(train_x, train_y, learning_rate = 0.0075, num_iterations = 2500, layer_hidden_neurons = layers_dims_2_layer_network,  activation = \"relu\")"
   ]
  }
 ],
 "metadata": {
  "coursera": {
   "course_slug": "neural-networks-deep-learning",
   "graded_item_id": "TSPse",
   "launcher_item_id": "24mxX"
  },
  "kernelspec": {
   "display_name": "Python 3",
   "language": "python",
   "name": "python3"
  },
  "language_info": {
   "codemirror_mode": {
    "name": "ipython",
    "version": 3
   },
   "file_extension": ".py",
   "mimetype": "text/x-python",
   "name": "python",
   "nbconvert_exporter": "python",
   "pygments_lexer": "ipython3",
   "version": "3.7.5-final"
  }
 },
 "nbformat": 4,
 "nbformat_minor": 2
}